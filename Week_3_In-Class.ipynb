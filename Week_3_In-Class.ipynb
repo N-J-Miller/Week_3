{
 "cells": [
  {
   "cell_type": "markdown",
   "id": "dce2e5d5",
   "metadata": {},
   "source": [
    "### Task\n",
    "Create a function that accepts two values, **a** and **b**. Add code to print three lines where:\n",
    "\n",
    "    The first line contains the sum of the two numbers.\n",
    "\n",
    "    The second line contains the difference of the two numbers(first-second).\n",
    "\n",
    "    The third line contains the product of the two numbers.\n",
    "\n",
    "Conditions:\n",
    "    If any of the results are zero, print \"zero\" as the result instead of 0.\n",
    "    \n",
    "Note: Be sure to inclued useful info printed out, not just the result.\n"
   ]
  },
  {
   "cell_type": "code",
   "execution_count": 2,
   "id": "71f61541",
   "metadata": {},
   "outputs": [
    {
     "name": "stdout",
     "output_type": "stream",
     "text": [
      "A + b= 8\n",
      "A - b= -2\n",
      "A * b= 15\n",
      "A + b= 6\n",
      "zero\n",
      "A * b= 9\n"
     ]
    }
   ],
   "source": [
    "def fresh_func(a,b):\n",
    "    x = a + b\n",
    "    if x == 0:\n",
    "        print('zero')\n",
    "    else:\n",
    "        print('A + b=',x)\n",
    "    x = a - b\n",
    "    if x == 0:\n",
    "        print('zero')\n",
    "    else:\n",
    "        print('A - b=',x)\n",
    "    x = a * b\n",
    "    if x == 0:\n",
    "        print('zero')\n",
    "    else:\n",
    "        print('A * b=',x)\n",
    "        \n",
    "fresh_func(3,5)\n",
    "fresh_func(3,3)"
   ]
  },
  {
   "cell_type": "code",
   "execution_count": null,
   "id": "f3e9c542",
   "metadata": {},
   "outputs": [],
   "source": []
  }
 ],
 "metadata": {
  "kernelspec": {
   "display_name": "Python 3 (ipykernel)",
   "language": "python",
   "name": "python3"
  },
  "language_info": {
   "codemirror_mode": {
    "name": "ipython",
    "version": 3
   },
   "file_extension": ".py",
   "mimetype": "text/x-python",
   "name": "python",
   "nbconvert_exporter": "python",
   "pygments_lexer": "ipython3",
   "version": "3.9.7"
  }
 },
 "nbformat": 4,
 "nbformat_minor": 5
}
